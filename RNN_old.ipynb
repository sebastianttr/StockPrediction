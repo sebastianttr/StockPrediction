{
 "cells": [
  {
   "cell_type": "code",
   "execution_count": 1,
   "id": "initial_id",
   "metadata": {
    "collapsed": true,
    "ExecuteTime": {
     "end_time": "2024-08-16T16:31:41.490035Z",
     "start_time": "2024-08-16T16:31:41.486685Z"
    }
   },
   "outputs": [],
   "source": [
    "def PrepareDataStock(days):\n",
    "    df = init_df.copy()\n",
    "    df['future'] = df['close'].shift(-days)\n",
    "    last_sequence = np.array(df[['close']].tail(days))\n",
    "    df.dropna(inplace=True)\n",
    "    sequence_data = []\n",
    "    sequences = deque(maxlen=N_STEPS)\n",
    "\n",
    "    for entry, target in zip(df[['close'] + ['date']].values, df['future'].values):\n",
    "        sequences.append(entry)\n",
    "        if len(sequences) == N_STEPS:\n",
    "            sequence_data.append([np.array(sequences), target])\n",
    "\n",
    "    last_sequence = list([s[:len(['close'])] for s in sequences]) + list(last_sequence)\n",
    "    last_sequence = np.array(last_sequence).astype(np.float32)\n",
    "\n",
    "    # construct the X's and Y's\n",
    "    X, Y = [], []\n",
    "    for seq, target in sequence_data:\n",
    "        X.append(seq)\n",
    "        Y.append(target)\n",
    "\n",
    "    # convert to numpy arrays\n",
    "    X = np.array(X)\n",
    "    Y = np.array(Y)\n",
    "\n",
    "    return df, last_sequence, X, Y"
   ]
  },
  {
   "cell_type": "code",
   "outputs": [],
   "source": [
    "def GetTrainedModel(x_train, y_train):\n",
    "    model = Sequential()\n",
    "    model.add(LSTM(60, return_sequences=True, input_shape=(N_STEPS, len(['close']))))\n",
    "    model.add(Dropout(0.3))\n",
    "    model.add(LSTM(120, return_sequences=False))\n",
    "    model.add(Dropout(0.3))\n",
    "    model.add(Dense(20))\n",
    "    model.add(Dense(1))\n",
    "\n",
    "    BATCH_SIZE = 8\n",
    "    EPOCHS = 80\n",
    "\n",
    "    model.compile(loss='mean_squared_error', optimizer='adam')\n",
    "\n",
    "    model.fit(x_train, y_train,\n",
    "              batch_size=BATCH_SIZE,\n",
    "              epochs=EPOCHS,\n",
    "              verbose=1)\n",
    "\n",
    "    model.summary()\n",
    "\n",
    "    return model\n"
   ],
   "metadata": {
    "collapsed": false,
    "ExecuteTime": {
     "end_time": "2024-08-16T16:31:50.553758Z",
     "start_time": "2024-08-16T16:31:50.548573Z"
    }
   },
   "id": "6fcfcd82a7fd7ce5",
   "execution_count": 2
  },
  {
   "cell_type": "code",
   "outputs": [
    {
     "ename": "NameError",
     "evalue": "name 'LOOKUP_STEPS' is not defined",
     "output_type": "error",
     "traceback": [
      "\u001B[0;31m---------------------------------------------------------------------------\u001B[0m",
      "\u001B[0;31mNameError\u001B[0m                                 Traceback (most recent call last)",
      "Cell \u001B[0;32mIn[3], line 4\u001B[0m\n\u001B[1;32m      1\u001B[0m \u001B[38;5;66;03m# GET PREDICTIONS\u001B[39;00m\n\u001B[1;32m      2\u001B[0m predictions \u001B[38;5;241m=\u001B[39m []\n\u001B[0;32m----> 4\u001B[0m \u001B[38;5;28;01mfor\u001B[39;00m step \u001B[38;5;129;01min\u001B[39;00m \u001B[43mLOOKUP_STEPS\u001B[49m:\n\u001B[1;32m      5\u001B[0m     df, last_sequence, x_train, y_train \u001B[38;5;241m=\u001B[39m PrepareDataStock(step)\n\u001B[1;32m      6\u001B[0m     x_train \u001B[38;5;241m=\u001B[39m x_train[:, :, :\u001B[38;5;28mlen\u001B[39m([\u001B[38;5;124m'\u001B[39m\u001B[38;5;124mclose\u001B[39m\u001B[38;5;124m'\u001B[39m])]\u001B[38;5;241m.\u001B[39mastype(np\u001B[38;5;241m.\u001B[39mfloat32)\n",
      "\u001B[0;31mNameError\u001B[0m: name 'LOOKUP_STEPS' is not defined"
     ]
    }
   ],
   "source": [
    "# GET PREDICTIONS\n",
    "predictions = []\n",
    "\n",
    "for step in LOOKUP_STEPS:\n",
    "    df, last_sequence, x_train, y_train = PrepareDataStock(step)\n",
    "    x_train = x_train[:, :, :len(['close'])].astype(np.float32)\n",
    "\n",
    "    model = GetTrainedModel(x_train, y_train)\n",
    "\n",
    "    last_sequence = last_sequence[-N_STEPS:]\n",
    "    last_sequence = np.expand_dims(last_sequence, axis=0)\n",
    "    prediction = model.predict(last_sequence)\n",
    "    predicted_price = scaler.inverse_transform(prediction)[0][0]\n",
    "\n",
    "    predictions.append(round(float(predicted_price), 2))"
   ],
   "metadata": {
    "collapsed": false,
    "ExecuteTime": {
     "end_time": "2024-08-16T16:32:10.582097Z",
     "start_time": "2024-08-16T16:32:10.496640Z"
    }
   },
   "id": "5148aefdc75f0b9e",
   "execution_count": 3
  },
  {
   "cell_type": "code",
   "outputs": [],
   "source": [
    "if bool(predictions) == True and len(predictions) > 0:\n",
    "    predictions_list = [str(d)+'$' for d in predictions]\n",
    "    predictions_str = ', '.join(predictions_list)\n",
    "    message = f'{STOCK} prediction for upcoming 3 days: ({predictions_str})'\n",
    "    print(message)"
   ],
   "metadata": {
    "collapsed": false,
    "ExecuteTime": {
     "end_time": "2024-08-16T16:32:16.848408Z",
     "start_time": "2024-08-16T16:32:16.841914Z"
    }
   },
   "id": "745b33374778345f",
   "execution_count": 4
  },
  {
   "cell_type": "code",
   "outputs": [
    {
     "ename": "NameError",
     "evalue": "name 'init_df' is not defined",
     "output_type": "error",
     "traceback": [
      "\u001B[0;31m---------------------------------------------------------------------------\u001B[0m",
      "\u001B[0;31mNameError\u001B[0m                                 Traceback (most recent call last)",
      "Cell \u001B[0;32mIn[5], line 2\u001B[0m\n\u001B[1;32m      1\u001B[0m \u001B[38;5;66;03m# Execute model for the whole history range\u001B[39;00m\n\u001B[0;32m----> 2\u001B[0m copy_df \u001B[38;5;241m=\u001B[39m \u001B[43minit_df\u001B[49m\u001B[38;5;241m.\u001B[39mcopy()\n\u001B[1;32m      3\u001B[0m y_predicted \u001B[38;5;241m=\u001B[39m model\u001B[38;5;241m.\u001B[39mpredict(x_train)\n\u001B[1;32m      4\u001B[0m y_predicted_transformed \u001B[38;5;241m=\u001B[39m np\u001B[38;5;241m.\u001B[39msqueeze(scaler\u001B[38;5;241m.\u001B[39minverse_transform(y_predicted))\n",
      "\u001B[0;31mNameError\u001B[0m: name 'init_df' is not defined"
     ]
    }
   ],
   "source": [
    "# Execute model for the whole history range\n",
    "copy_df = init_df.copy()\n",
    "y_predicted = model.predict(x_train)\n",
    "y_predicted_transformed = np.squeeze(scaler.inverse_transform(y_predicted))\n",
    "first_seq = scaler.inverse_transform(np.expand_dims(y_train[:6], axis=1))\n",
    "last_seq = scaler.inverse_transform(np.expand_dims(y_train[-3:], axis=1))\n",
    "y_predicted_transformed = np.append(first_seq, y_predicted_transformed)\n",
    "y_predicted_transformed = np.append(y_predicted_transformed, last_seq)\n",
    "copy_df[f'predicted_close'] = y_predicted_transformed\n",
    "\n",
    "# Add predicted results to the table\n",
    "date_now = dt.date.today()\n",
    "date_tomorrow = dt.date.today() + dt.timedelta(days=1)\n",
    "date_after_tomorrow = dt.date.today() + dt.timedelta(days=2)\n",
    "\n",
    "copy_df.loc[date_now] = [predictions[0], f'{date_now}', 0, 0]\n",
    "copy_df.loc[date_tomorrow] = [predictions[1], f'{date_tomorrow}', 0, 0]\n",
    "copy_df.loc[date_after_tomorrow] = [predictions[2], f'{date_after_tomorrow}', 0, 0]\n",
    "\n",
    "# Result chart\n",
    "plt.style.use(style='ggplot')\n",
    "plt.figure(figsize=(16,10))\n",
    "plt.plot(copy_df['close'][-150:].head(147))\n",
    "plt.plot(copy_df['predicted_close'][-150:].head(147), linewidth=1, linestyle='dashed')\n",
    "plt.plot(copy_df['close'][-150:].tail(4))\n",
    "plt.xlabel('days')\n",
    "plt.ylabel('price')\n",
    "plt.legend([f'Actual price for {STOCK}',\n",
    "            f'Predicted price for {STOCK}',\n",
    "            f'Predicted price for future 3 days'])\n",
    "plt.show()"
   ],
   "metadata": {
    "collapsed": false,
    "ExecuteTime": {
     "end_time": "2024-08-16T16:32:28.616548Z",
     "start_time": "2024-08-16T16:32:28.602365Z"
    }
   },
   "id": "3370b0ef7fab7f92",
   "execution_count": 5
  },
  {
   "cell_type": "code",
   "outputs": [],
   "source": [],
   "metadata": {
    "collapsed": false
   },
   "id": "210db47475003d06"
  }
 ],
 "metadata": {
  "kernelspec": {
   "display_name": "Python 3",
   "language": "python",
   "name": "python3"
  },
  "language_info": {
   "codemirror_mode": {
    "name": "ipython",
    "version": 2
   },
   "file_extension": ".py",
   "mimetype": "text/x-python",
   "name": "python",
   "nbconvert_exporter": "python",
   "pygments_lexer": "ipython2",
   "version": "2.7.6"
  }
 },
 "nbformat": 4,
 "nbformat_minor": 5
}
